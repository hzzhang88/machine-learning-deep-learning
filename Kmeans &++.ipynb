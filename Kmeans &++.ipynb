{
 "cells": [
  {
   "cell_type": "code",
   "execution_count": 1,
   "id": "99c882b7-9dea-497e-86ee-9e1862772d62",
   "metadata": {},
   "outputs": [],
   "source": [
    "import numpy as np"
   ]
  },
  {
   "cell_type": "code",
   "execution_count": 15,
   "id": "b14a3451-07a2-4940-982c-8ebca0af4c84",
   "metadata": {},
   "outputs": [],
   "source": [
    "def kmeans(X,C):\n",
    "    assert X.shape[1] == C.shape[1]\n",
    "    while True:\n",
    "        new_assignments = nearest_cluster(X,C)\n",
    "        try:\n",
    "            if np.all(new_assignments == assignments):\n",
    "                return assignments, C\n",
    "        except NameError:\n",
    "            pass\n",
    "        assignments = new_assignments\n",
    "        C= compute_centroids(X,assignments)\n"
   ]
  },
  {
   "cell_type": "code",
   "execution_count": 26,
   "id": "a4acfc42-46ff-4af9-b099-f16728bd60df",
   "metadata": {},
   "outputs": [],
   "source": [
    "def nearest_cluster(X,C):\n",
    "    dist = np.linalg.norm(X[:,None,:] - C[None,:,:],axis = 2)\n",
    "    return np.argmin(dist,axis = 1)"
   ]
  },
  {
   "cell_type": "code",
   "execution_count": 19,
   "id": "7bd4cd8e-6e97-4251-98a1-7d3d03849ba3",
   "metadata": {},
   "outputs": [],
   "source": [
    "def compute_centroids(X,a):\n",
    "    c = np.arange(a.max()+1)\n",
    "    z = a[:,None,None] == c[None,:,None]\n",
    "    return (X[:,None]*z).sum(axis =0)/z.sum(axis =0)\n"
   ]
  },
  {
   "cell_type": "code",
   "execution_count": 55,
   "id": "12621422-c21e-4cc0-826e-d71036dc6624",
   "metadata": {},
   "outputs": [],
   "source": [
    "def kmeanspp(X,k,rng):\n",
    "    n,p = X.shape\n",
    "    C = np.zeros((k,p))\n",
    "    j = rng.choice(n)\n",
    "    C[0] = X[j]\n",
    "    \n",
    "    for i in range(1,k):\n",
    "        dist = np.linalg.norm(X[:,None,:]-C[None,:i,:], axis = 2)\n",
    "        d = dist.min(1)\n",
    "        w = d**2\n",
    "        w /= w.sum()\n",
    "        j = rng.choice(n,p=w)\n",
    "        C[i] = X[j]\n",
    "    return C"
   ]
  },
  {
   "cell_type": "code",
   "execution_count": 6,
   "id": "91d96304-e7a5-4918-95d0-1f81d083a788",
   "metadata": {},
   "outputs": [],
   "source": [
    "def V(X,a,C):\n",
    "    return np.sum((X-C[a])**2)"
   ]
  },
  {
   "cell_type": "code",
   "execution_count": 7,
   "id": "c5ef5f64-47f5-421b-9f6c-2d22db8c62c4",
   "metadata": {},
   "outputs": [
    {
     "data": {
      "text/plain": [
       "array([[3, 3, 3],\n",
       "       [1, 1, 1],\n",
       "       [2, 2, 2],\n",
       "       [2, 2, 2],\n",
       "       [1, 1, 1],\n",
       "       [3, 3, 3]])"
      ]
     },
     "execution_count": 7,
     "metadata": {},
     "output_type": "execute_result"
    }
   ],
   "source": [
    "C = np.array([[2,2,2],[1,1,1],[3,3,3]])\n",
    "a = np.array([2,1,0,0,1,2])\n",
    "C[a]"
   ]
  },
  {
   "cell_type": "code",
   "execution_count": 10,
   "id": "7f14884c-09ef-4fa9-ae2f-404d1aff45d3",
   "metadata": {},
   "outputs": [
    {
     "data": {
      "text/plain": [
       "array([[10.,  2.],\n",
       "       [ 1.,  2.]])"
      ]
     },
     "execution_count": 10,
     "metadata": {},
     "output_type": "execute_result"
    }
   ],
   "source": [
    "from sklearn.cluster import KMeans\n",
    "import numpy as np\n",
    "X = np.array([[1, 2], [1, 4], [1, 0],\n",
    "              [10, 2], [10, 4], [10, 0]])\n",
    "kmeans = KMeans(n_clusters=2, random_state=0).fit(X)\n",
    "kmeans.labels_\n",
    "kmeans.predict([[0, 0], [12, 3]])\n",
    "kmeans.cluster_centers_\n"
   ]
  },
  {
   "cell_type": "code",
   "execution_count": 24,
   "id": "f6ae2289-e8e2-46f9-bd5f-1ff2cdc5db62",
   "metadata": {},
   "outputs": [
    {
     "data": {
      "text/plain": [
       "(array([0, 0, 0, 1, 1, 1], dtype=int64),\n",
       " array([[ 1.,  2.],\n",
       "        [10.,  2.]]))"
      ]
     },
     "execution_count": 24,
     "metadata": {},
     "output_type": "execute_result"
    }
   ],
   "source": [
    "rng = np.random.default_rng(1)\n",
    "C0 = kmeanspp(X,2,rng)\n",
    "clst = kmeans(X,C0)\n",
    "clst"
   ]
  },
  {
   "cell_type": "code",
   "execution_count": 42,
   "id": "f106281c-0623-468b-9e28-e58f04d06488",
   "metadata": {},
   "outputs": [
    {
     "data": {
      "text/html": [
       "<div>\n",
       "<style scoped>\n",
       "    .dataframe tbody tr th:only-of-type {\n",
       "        vertical-align: middle;\n",
       "    }\n",
       "\n",
       "    .dataframe tbody tr th {\n",
       "        vertical-align: top;\n",
       "    }\n",
       "\n",
       "    .dataframe thead th {\n",
       "        text-align: right;\n",
       "    }\n",
       "</style>\n",
       "<table border=\"1\" class=\"dataframe\">\n",
       "  <thead>\n",
       "    <tr style=\"text-align: right;\">\n",
       "      <th></th>\n",
       "      <th>var1</th>\n",
       "      <th>var2</th>\n",
       "    </tr>\n",
       "  </thead>\n",
       "  <tbody>\n",
       "    <tr>\n",
       "      <th>0</th>\n",
       "      <td>2.204387</td>\n",
       "      <td>1.560857</td>\n",
       "    </tr>\n",
       "    <tr>\n",
       "      <th>1</th>\n",
       "      <td>-1.133740</td>\n",
       "      <td>2.684673</td>\n",
       "    </tr>\n",
       "  </tbody>\n",
       "</table>\n",
       "</div>"
      ],
      "text/plain": [
       "       var1      var2\n",
       "0  2.204387  1.560857\n",
       "1 -1.133740  2.684673"
      ]
     },
     "execution_count": 42,
     "metadata": {},
     "output_type": "execute_result"
    }
   ],
   "source": [
    "from sklearn.datasets import make_blobs\n",
    "import pandas as pd\n",
    "\n",
    "dataset, classes = make_blobs(n_samples=200, n_features=2, centers=4, cluster_std=0.5, random_state=0)\n",
    "# make as panda dataframe for easy understanding\n",
    "df = pd.DataFrame(dataset, columns=['var1', 'var2'])\n",
    "df.head(2)"
   ]
  },
  {
   "cell_type": "code",
   "execution_count": 54,
   "id": "33fad7a8-4024-4265-9fd2-4ab473771563",
   "metadata": {},
   "outputs": [
    {
     "data": {
      "image/png": "[encoded data removed]",
      "text/plain": [
       "<Figure size 432x288 with 1 Axes>"
      ]
     },
     "metadata": {
      "needs_background": "light"
     },
     "output_type": "display_data"
    }
   ],
   "source": [
    "p = KMeans(n_clusters=4, init='k-means++', random_state=1).fit(df)\n",
    "import seaborn as sns\n",
    "import matplotlib.pyplot as plt\n",
    "sns.scatterplot(data=df, x=\"var1\", y=\"var2\", hue=p.labels_)\n",
    "plt.show()"
   ]
  },
  {
   "cell_type": "code",
   "execution_count": 59,
   "id": "1c1d0f0d-bb19-413c-b62b-1c0c95b2861d",
   "metadata": {},
   "outputs": [
    {
     "data": {
      "text/plain": [
       "<AxesSubplot:xlabel='var1', ylabel='var2'>"
      ]
     },
     "execution_count": 59,
     "metadata": {},
     "output_type": "execute_result"
    },
    {
     "data": {
      "image/png": "[encoded data removed]",
      "text/plain": [
       "<Figure size 432x288 with 1 Axes>"
      ]
     },
     "metadata": {
      "needs_background": "light"
     },
     "output_type": "display_data"
    }
   ],
   "source": [
    "rng = np.random.default_rng(1)\n",
    "C0 = kmeanspp(df.values,4,rng)\n",
    "l,centroids = kmeans(df.values,C0)\n",
    "sns.scatterplot(data=df, x=\"var1\", y=\"var2\", hue=l)"
   ]
  },
  {
   "cell_type": "code",
   "execution_count": 63,
   "id": "91ec5b54-0ef8-40be-800d-76a5ef01e384",
   "metadata": {},
   "outputs": [],
   "source": [
    "a= l"
   ]
  },
  {
   "cell_type": "code",
   "execution_count": 65,
   "id": "fd461415-3ec1-4025-99ed-2fb298180c6b",
   "metadata": {},
   "outputs": [
    {
     "data": {
      "text/plain": [
       "(200, 4, 1)"
      ]
     },
     "execution_count": 65,
     "metadata": {},
     "output_type": "execute_result"
    }
   ],
   "source": [
    "c = np.arange(a.max()+1)\n",
    "z = a[:,None,None] == c[None,:,None]\n",
    "z.shape"
   ]
  },
  {
   "cell_type": "code",
   "execution_count": 73,
   "id": "609c08a8-bfe9-4f81-b327-5adf3b2bd655",
   "metadata": {},
   "outputs": [
    {
     "data": {
      "text/plain": [
       "(200, 1, 2)"
      ]
     },
     "execution_count": 73,
     "metadata": {},
     "output_type": "execute_result"
    }
   ],
   "source": [
    "df.values[:,None,:].shape"
   ]
  },
  {
   "cell_type": "code",
   "execution_count": null,
   "id": "801ecea9-17e4-4fd7-b1d6-e3a968592c17",
   "metadata": {},
   "outputs": [],
   "source": [
    "    c = np.arange(a.max()+1)\n",
    "    z = a[:,None,None] == c[None,:,None]\n",
    "    return (X[:,None]*z).sum(axis =0)/z.sum(axis =0)"
   ]
  },
  {
   "cell_type": "code",
   "execution_count": 74,
   "id": "fdc31a49-9f4e-460e-8d39-583651be36f2",
   "metadata": {},
   "outputs": [
    {
     "data": {
      "text/plain": [
       "array([[False],\n",
       "       [False],\n",
       "       [ True],\n",
       "       [False]])"
      ]
     },
     "execution_count": 74,
     "metadata": {},
     "output_type": "execute_result"
    }
   ],
   "source": [
    "z[0,:,:]"
   ]
  },
  {
   "cell_type": "code",
   "execution_count": 75,
   "id": "6be831b4-5ba4-4f30-9cdc-e116151856a4",
   "metadata": {},
   "outputs": [],
   "source": [
    "X = df.values[:,None,:]"
   ]
  },
  {
   "cell_type": "code",
   "execution_count": 76,
   "id": "16329c93-eb7c-4542-a99d-014de5939ba6",
   "metadata": {},
   "outputs": [
    {
     "data": {
      "text/plain": [
       "array([[2.20438661, 1.56085661]])"
      ]
     },
     "execution_count": 76,
     "metadata": {},
     "output_type": "execute_result"
    }
   ],
   "source": [
    "x = X[0,:,:]\n",
    "x"
   ]
  },
  {
   "cell_type": "code",
   "execution_count": 77,
   "id": "1c2a3d06-8ec5-4278-936c-c4f2bf710944",
   "metadata": {},
   "outputs": [
    {
     "data": {
      "text/plain": [
       "array([[0.        , 0.        ],\n",
       "       [0.        , 0.        ],\n",
       "       [2.20438661, 1.56085661],\n",
       "       [0.        , 0.        ]])"
      ]
     },
     "execution_count": 77,
     "metadata": {},
     "output_type": "execute_result"
    }
   ],
   "source": [
    "x*z[0,:,:]"
   ]
  },
  {
   "cell_type": "code",
   "execution_count": 79,
   "id": "6b0cf69b-3f1e-42a6-9220-11feba31e983",
   "metadata": {},
   "outputs": [
    {
     "data": {
      "text/plain": [
       "2.2"
      ]
     },
     "execution_count": 79,
     "metadata": {},
     "output_type": "execute_result"
    }
   ],
   "source": [
    "2.2*True"
   ]
  },
  {
   "cell_type": "code",
   "execution_count": null,
   "id": "11785ee6-a764-4447-8243-4fbc29ffd225",
   "metadata": {},
   "outputs": [],
   "source": []
  }
 ],
 "metadata": {
  "kernelspec": {
   "display_name": "Python 3 (ipykernel)",
   "language": "python",
   "name": "python3"
  },
  "language_info": {
   "codemirror_mode": {
    "name": "ipython",
    "version": 3
   },
   "file_extension": ".py",
   "mimetype": "text/x-python",
   "name": "python",
   "nbconvert_exporter": "python",
   "pygments_lexer": "ipython3",
   "version": "3.9.7"
  }
 },
 "nbformat": 4,
 "nbformat_minor": 5
}
